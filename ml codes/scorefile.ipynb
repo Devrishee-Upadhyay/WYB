{
 "cells": [
  {
   "cell_type": "code",
   "execution_count": null,
   "metadata": {
    "collapsed": false
   },
   "outputs": [],
   "source": [
    "import pickle\n",
    "from sklearn.feature_extraction.text import CountVectorizer\n",
    "file=open('decision_tree.pkl',\"rb\")\n",
    "f=pickle.load(file)\n",
    "file1=open('minor.pickle',\"rb\")\n",
    "f1=pickle.load(file1)\n",
    "\n",
    "score={}\n",
    "ind=0\n",
    "cv=CountVectorizer(max_features=1500)\n",
    "x=cv.fit_transform(f1).toarray()\n",
    "preds=f.predict(x)\n",
    "for i in f1:\n",
    "    line= str(i).split(' ')\n",
    "    for word in line:\n",
    "        if(word not in score):\n",
    "            score[word]=preds[ind]\n",
    "    ind=ind+1\n",
    "        \n",
    "with open('score.pickle', 'wb') as handle:\n",
    "    pickle.dump(score, handle, protocol=pickle.HIGHEST_PROTOCOL)\n"
   ]
  }
 ],
 "metadata": {
  "anaconda-cloud": {},
  "kernelspec": {
   "display_name": "Python [default]",
   "language": "python",
   "name": "python3"
  },
  "language_info": {
   "codemirror_mode": {
    "name": "ipython",
    "version": 3
   },
   "file_extension": ".py",
   "mimetype": "text/x-python",
   "name": "python",
   "nbconvert_exporter": "python",
   "pygments_lexer": "ipython3",
   "version": "3.5.2"
  }
 },
 "nbformat": 4,
 "nbformat_minor": 1
}
